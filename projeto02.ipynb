{
 "cells": [
  {
   "cell_type": "markdown",
   "metadata": {
    "id": "SEE0vQsW83yB"
   },
   "source": [
    "### 01 - Teste de gravidez\n",
    "Escreva uma célula com controle de fluxos que tem como premissa a existência das seguintes variáveis:\n",
    "\n",
    "- ```sexo``` como ```str``` indicando os valores '**M**' para masculino e '**F**' para feminino  \n",
    "- ```beta_hcg``` que indica a quantidade do beta-HCG no sangue em mUI/mL.\n",
    "\n",
    "A sua tarefa é escrever um código que imprima como resultado \"indivíduo do sexo masculino\" quando sexo = 'M', caso sexo = 'F', se o valor de beta-HCG for maior que 5, retorne \"Positivo\" indicando que a paciente está grávida, e retorne \"Negativo\" caso contrário.\n",
    "\n",
    "Não mexa nos valores da variável ```sexo``` nem em ```beta_hcg```, e escreva um código que funcione para quaisquer valores possíveis de ambos: ```sexo``` = '**M**' ou '**F**' e ```beta_hcg``` assumindo valores inteiros positivos."
   ]
  },
  {
   "cell_type": "code",
   "execution_count": 11,
   "metadata": {
    "id": "cTOc4LG683yE"
   },
   "outputs": [
    {
     "name": "stdout",
     "output_type": "stream",
     "text": [
      "Indivíduo do sexo masculino\n"
     ]
    }
   ],
   "source": [
    "sexo = 'M'\n",
    "beta_hcg = 0\n",
    "\n",
    "# Se o sexo for masculino, imprime \"indivíduo do sexo masculino\"\n",
    "if sexo == 'M':\n",
    "    print(\"Indivíduo do sexo masculino\")\n",
    "# Se o sexo for feminino, verifica o valor do beta-HCG\n",
    "elif sexo == 'F':\n",
    "    # Se o valor de beta-HCG for maior que 5, imprime \"Positivo\"\n",
    "    if beta_hcg > 5:\n",
    "        print(\"Positivo\")\n",
    "    # Caso contrário, imprime \"Negativo\"\n",
    "    else:\n",
    "        print(\"Negativo\")\n"
   ]
  },
  {
   "cell_type": "markdown",
   "metadata": {
    "id": "uCoIZDE383yF"
   },
   "source": [
    "### 02 - Renomeando variáveis\n",
    "\n",
    "Vamos ver adiante que uma forma de renomear variáveis de um conjunto de dados é através de dicionários - o dicionário deve conter como chave o nome original, associando a cada chave um único valor (tipo *str*) que contenha o nome novo.\n",
    "\n",
    "A sua tarefa é escrever um dicionário que possa ser utilizado para traduzir as variáveis ```name``` (nome), ```age``` (idade) e ```income``` (renda). Ou seja, esse dicionário deve relacionar as chaves *name, age* e *income* às suas respectivas traduções."
   ]
  },
  {
   "cell_type": "code",
   "execution_count": 13,
   "metadata": {
    "id": "Bh6ijpbu83yG",
    "outputId": "58fbd8da-ed1d-4e05-df85-041c821948f2"
   },
   "outputs": [],
   "source": [
    "dic_renomeacao = {'name': 'nome', 'age': 'idade', 'income': 'renda'}"
   ]
  },
  {
   "cell_type": "markdown",
   "metadata": {
    "id": "95zumO5g83yH"
   },
   "source": [
    "### 03 - É divisível?\n",
    "A sua tarefa é escrever um código que indique se um número ```N``` é divisível por um número P. Escreva um programa que faça essa verificação para quaisquer combinações de ```N``` e ```M``` e devolva uma mensagem indicativa no output."
   ]
  },
  {
   "cell_type": "code",
   "execution_count": 15,
   "metadata": {
    "id": "BR2zOhmN83yI"
   },
   "outputs": [
    {
     "name": "stdout",
     "output_type": "stream",
     "text": [
      "1 não é divisível por 7\n"
     ]
    }
   ],
   "source": [
    "N = 1\n",
    "M = 7\n",
    "\n",
    "# Verifica se N é divisível por M\n",
    "if N % M == 0:\n",
    "    print(f\"{N} é divisível por {M}\")\n",
    "else:\n",
    "    print(f\"{N} não é divisível por {M}\")\n"
   ]
  },
  {
   "cell_type": "markdown",
   "metadata": {
    "id": "0d5Kdrz283yJ"
   },
   "source": [
    "### 04 - Números primos\n",
    "> Um número **N** é primo se e somente se é divisível por 1, -1, por **N** e por -**N**.  \n",
    "\n",
    "Escreva um script que verifica se ```N``` é um número primo, verificando se ```N``` é divisível por todos os números de ```1``` a ```N-1```. Você vai precisar usar alguma ferramenta de *loop* que você aprendeu para isto. No final, devolva uma mensagem no output indicando se o número é primo ou não."
   ]
  },
  {
   "cell_type": "code",
   "execution_count": 16,
   "metadata": {
    "id": "h_lFO-EO83yJ"
   },
   "outputs": [
    {
     "name": "stdout",
     "output_type": "stream",
     "text": [
      "47 é um número primo\n"
     ]
    }
   ],
   "source": [
    "N = 47\n",
    "\n",
    "# Verifica se N é um número primo\n",
    "e_primo = True\n",
    "\n",
    "# Um número primo é maior que 1, então o loop começa a partir de 2\n",
    "for i in range(2, N):\n",
    "    if N % i == 0:\n",
    "        # Se N for divisível por algum número entre 2 e N-1, não é primo\n",
    "        e_primo = False\n",
    "        break\n",
    "\n",
    "# Verifica se e_primo ainda é True após o loop\n",
    "if e_primo:\n",
    "    print(f\"{N} é um número primo\")\n",
    "else:\n",
    "    print(f\"{N} não é um número primo\")\n",
    "\n"
   ]
  },
  {
   "cell_type": "markdown",
   "metadata": {
    "id": "zHwDnURO83yK"
   },
   "source": [
    "### 05 - Desafio\n",
    "O algorítmo do exercício anterior não é o mais eficiente. O que você pode fazer para deixá-lo mais eficiente? Ou seja, executar menos comparações, portanto consumir menos tempo.\n",
    "1. Será que precisamos correr o loop até o final sempre?\n",
    "2. Será que precisamos mesmo verificar **todos** os números?\n",
    "3. Será que precisamos ir até N-1?\n",
    "\n",
    "Essas perguntas levam ao tipo de pensamento voltado a deixar um algoritmo mais eficiente. Veja se você consegue melhorar o seu."
   ]
  },
  {
   "cell_type": "code",
   "execution_count": 17,
   "metadata": {
    "id": "DDdwfZOL83yM"
   },
   "outputs": [
    {
     "name": "stdout",
     "output_type": "stream",
     "text": [
      "47 é um número primo\n"
     ]
    }
   ],
   "source": [
    "import math\n",
    "\n",
    "N = 47\n",
    "\n",
    "# Verifica se N é um número primo\n",
    "e_primo = True\n",
    "\n",
    "# Um número primo é maior que 1, então o loop começa a partir de 2\n",
    "# e vai até a raiz quadrada de N, arredondando para cima\n",
    "for i in range(2, math.isqrt(N) + 1):\n",
    "    if N % i == 0:\n",
    "        # Se N for divisível por algum número entre 2 e a raiz quadrada de N, não é primo\n",
    "        e_primo = False\n",
    "        break\n",
    "\n",
    "# Verifica se e_primo ainda é True após o loop\n",
    "if e_primo:\n",
    "    print(f\"{N} é um número primo\")\n",
    "else:\n",
    "    print(f\"{N} não é um número primo\")\n"
   ]
  },
  {
   "cell_type": "markdown",
   "metadata": {
    "id": "4zhVSQan83yN"
   },
   "source": [
    "### 06 - Peso ideal 1\n",
    "O IMC (índice de massa corpórea) é um indicador de saúde mais bem aceito que o peso. Ele é calculado como:\n",
    "\n",
    "$$ IMC = \\dfrac{peso}{altura^2}$$\n",
    "\n",
    "Segundo a OMS, valores *normais* são entre 18.5 e 24.9.\n",
    "\n",
    "Sua tarefa é encontrar o ponto médio dessa faixa."
   ]
  },
  {
   "cell_type": "code",
   "execution_count": 18,
   "metadata": {
    "id": "3DzxicN983yO",
    "outputId": "6a947e58-88b2-4764-a9ca-717b971adb3d"
   },
   "outputs": [
    {
     "name": "stdout",
     "output_type": "stream",
     "text": [
      "O ponto médio da faixa de IMC recomendada pela OMS é: 21.7\n"
     ]
    }
   ],
   "source": [
    "limite_inferior = 18.5\n",
    "limite_superior = 24.9\n",
    "\n",
    "ponto_medio = (limite_inferior + limite_superior) / 2\n",
    "\n",
    "print(f\"O ponto médio da faixa de IMC recomendada pela OMS é: {ponto_medio}\")\n"
   ]
  },
  {
   "cell_type": "markdown",
   "metadata": {
    "id": "Z8uBOym483yP"
   },
   "source": [
    "### 07 - Peso ideal 2\n",
    "Recebendo um valor de altura, encontre o peso '*ideal*' dessa pessoa, que fornece o IMC encontrado acima"
   ]
  },
  {
   "cell_type": "code",
   "execution_count": 19,
   "metadata": {
    "id": "rrNwycte83yP",
    "outputId": "0e63b2ff-3743-48c7-a472-b48a450a0867"
   },
   "outputs": [
    {
     "name": "stdout",
     "output_type": "stream",
     "text": [
      "O peso ideal para uma altura de 1.7 m é aproximadamente 62.71 kg.\n"
     ]
    }
   ],
   "source": [
    "altura = 1.70\n",
    "imc_desejado = (18.5 + 24.9) / 2\n",
    "\n",
    "peso_ideal = imc_desejado * altura**2\n",
    "\n",
    "print(f\"O peso ideal para uma altura de {altura} m é aproximadamente {peso_ideal:.2f} kg.\")"
   ]
  },
  {
   "cell_type": "markdown",
   "metadata": {
    "id": "zEdM6J_i83yP"
   },
   "source": [
    "### 08 - Peso ideal 3\n",
    "Dada uma lista contendo as alturas de pacientes, crie uma nova lista que contenha o peso '*ideal*' (que fornece o IMC calculado em **Peso ideal 1**) desses pacientes."
   ]
  },
  {
   "cell_type": "code",
   "execution_count": 20,
   "metadata": {
    "id": "KN1mB_My83yQ",
    "outputId": "f070d54d-c156-4546-e3c7-b5bc500059d9"
   },
   "outputs": [
    {
     "name": "stdout",
     "output_type": "stream",
     "text": [
      "Lista de pesos ideais: [82.51424999999999, 91.19425, 62.712999999999994, 59.07824999999999]\n"
     ]
    }
   ],
   "source": [
    "lista_alturas = [1.95, 2.05, 1.70, 1.65]\n",
    "lista_peso_ideal = []\n",
    "\n",
    "# Calcula o peso ideal para cada altura na lista\n",
    "for altura in lista_alturas:\n",
    "    imc_desejado = (18.5 + 24.9) / 2\n",
    "    peso_ideal = imc_desejado * altura**2\n",
    "    lista_peso_ideal.append(peso_ideal)\n",
    "\n",
    "# Imprime a lista de pesos ideais\n",
    "print(\"Lista de pesos ideais:\", lista_peso_ideal)"
   ]
  },
  {
   "cell_type": "markdown",
   "metadata": {
    "id": "8OKAtYQM83yQ"
   },
   "source": [
    "### 09 - Peso ideal 4\n",
    "Dada uma lista de tuplas - cada elemento da lista é uma tupla contendo altura e peso de um paciente - crie uma nova lista com o IMC desses pacientes."
   ]
  },
  {
   "cell_type": "code",
   "execution_count": 21,
   "metadata": {
    "id": "FaXgkjzI83yQ",
    "outputId": "8adc5e59-8a72-42db-db6b-6895587e875e"
   },
   "outputs": [
    {
     "name": "stdout",
     "output_type": "stream",
     "text": [
      "Lista de IMCs: [27.777777777777775, 27.548209366391188, 19.188070502453332]\n"
     ]
    }
   ],
   "source": [
    "altura_peso = [(1.80, 90), (1.65, 75), (1.91, 70)]\n",
    "imc = []\n",
    "\n",
    "# Calcula o IMC para cada paciente na lista de tuplas\n",
    "for altura, peso in altura_peso:\n",
    "    imc_paciente = peso / altura**2\n",
    "    imc.append(imc_paciente)\n",
    "\n",
    "# Imprime a lista de IMCs\n",
    "print(\"Lista de IMCs:\", imc)\n"
   ]
  },
  {
   "cell_type": "markdown",
   "metadata": {
    "id": "kZdSJqJq83yR"
   },
   "source": [
    "### 10 - Peso ideal 5\n",
    "Dada uma lista de **listas** - cada elemento da lista é uma **lista** contendo altura e peso de um paciente, adicione mais um elemento à lista de cada paciente contendo o IMC do paciente. Verifique também se é 'baixo', 'normal' ou 'alto' segundo os padrões da OMS em que normal é entre 18.5 e 24.9.\n",
    "\n",
    "Reflexão: por que no problema anterior temos que criar uma nova lista, e não podemos adicionar os dados de cada indivíduo à tupla?"
   ]
  },
  {
   "cell_type": "code",
   "execution_count": 23,
   "metadata": {
    "id": "EwszojP283yR"
   },
   "outputs": [
    {
     "name": "stdout",
     "output_type": "stream",
     "text": [
      "Altura: 1.800 m, Peso: 90.000 kg, IMC: 27.778, Estado IMC: alto\n",
      "Altura: 1.650 m, Peso: 75.000 kg, IMC: 27.548, Estado IMC: alto\n",
      "Altura: 1.910 m, Peso: 70.000 kg, IMC: 19.188, Estado IMC: normal\n"
     ]
    }
   ],
   "source": [
    "altura_peso = [[1.80, 90], [1.65, 75], [1.91, 70]]\n",
    "\n",
    "# Calcula o IMC para cada paciente na lista de listas\n",
    "for paciente in altura_peso:\n",
    "    altura, peso = paciente[0], paciente[1]\n",
    "    imc = peso / altura**2\n",
    "    paciente.append(round(imc, 3))  # Formata para 3 casas decimais\n",
    "\n",
    "    # Adiciona uma indicação de 'baixo', 'normal' ou 'alto' com base nos padrões da OMS\n",
    "    if 18.5 <= imc <= 24.9:\n",
    "        estado_imc = 'normal'\n",
    "    elif imc < 18.5:\n",
    "        estado_imc = 'baixo'\n",
    "    else:\n",
    "        estado_imc = 'alto'\n",
    "\n",
    "    paciente.append(estado_imc)\n",
    "\n",
    "# Imprime a lista de listas atualizada com os resultados formatados\n",
    "for paciente in altura_peso:\n",
    "    print(f\"Altura: {paciente[0]:.3f} m, Peso: {paciente[1]:.3f} kg, IMC: {paciente[2]:.3f}, Estado IMC: {paciente[3]}\")\n",
    "\n"
   ]
  },
  {
   "cell_type": "code",
   "execution_count": null,
   "metadata": {},
   "outputs": [],
   "source": []
  }
 ],
 "metadata": {
  "colab": {
   "collapsed_sections": [],
   "provenance": []
  },
  "kernelspec": {
   "display_name": "Python 3 (ipykernel)",
   "language": "python",
   "name": "python3"
  },
  "language_info": {
   "codemirror_mode": {
    "name": "ipython",
    "version": 3
   },
   "file_extension": ".py",
   "mimetype": "text/x-python",
   "name": "python",
   "nbconvert_exporter": "python",
   "pygments_lexer": "ipython3",
   "version": "3.11.5"
  }
 },
 "nbformat": 4,
 "nbformat_minor": 1
}
